{
 "cells": [
  {
   "cell_type": "code",
   "execution_count": null,
   "id": "98f791af",
   "metadata": {},
   "outputs": [],
   "source": [
    "while True:\n",
    "    try:\n",
    "        num= int (input(\"Digite um número inteiro:\"))\n",
    "        resultado = 10 / num\n",
    "        print(f\"resultado da divisão: {resultado}\")\n",
    "        break\n",
    "    except ZeroDivisionError:\n",
    "        print(\"Erro: Não é possivel dividir por zero.\")\n",
    "    except ValueError:\n",
    "        print(\"Erro: Digirte um número inteiro Válido.\")"
   ]
  },
  {
   "cell_type": "code",
   "execution_count": null,
   "id": "09eb2811",
   "metadata": {},
   "outputs": [],
   "source": [
    "try:\n",
    "    arquivo = open(\"dados.txt\", \"r\")\n",
    "    conteudo = arquivo.read()\n",
    "    print(conteudo)\n",
    "    arquivo.close()\n",
    "except FileNotFoundError:\n",
    "    print(\"aquivo não encontrado\")"
   ]
  },
  {
   "cell_type": "code",
   "execution_count": null,
   "id": "ccd8d0a2",
   "metadata": {},
   "outputs": [],
   "source": [
    "try:\n",
    "    lista = [1,2,3]\n",
    "    print(lista[0])\n",
    "except IndexError:\n",
    "    print(\"Indice fora da lista!\")"
   ]
  }
 ],
 "metadata": {
  "kernelspec": {
   "display_name": "Python 3",
   "language": "python",
   "name": "python3"
  },
  "language_info": {
   "name": "python",
   "version": "3.12.3"
  }
 },
 "nbformat": 4,
 "nbformat_minor": 5
}
